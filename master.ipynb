{
 "cells": [
  {
   "cell_type": "code",
   "execution_count": 10,
   "metadata": {},
   "outputs": [
    {
     "name": "stdout",
     "output_type": "stream",
     "text": [
      "Hello World\n"
     ]
    }
   ],
   "source": [
    "#PRINT\n",
    "print('Hello World')"
   ]
  },
  {
   "cell_type": "code",
   "execution_count": 11,
   "metadata": {},
   "outputs": [
    {
     "name": "stdout",
     "output_type": "stream",
     "text": [
      "15\n",
      "you are 15 year old\n",
      "You are 15 years old\n",
      "You are 15 years old\n"
     ]
    }
   ],
   "source": [
    "#VARIABLE\n",
    "age = 15\n",
    "\n",
    "print(age)\n",
    "print('you are ' + str(age) + ' year old')\n",
    "print('You are', age, 'years old')\n",
    "print(f'You are {age} years old')"
   ]
  },
  {
   "cell_type": "code",
   "execution_count": 12,
   "metadata": {},
   "outputs": [
    {
     "name": "stdout",
     "output_type": "stream",
     "text": [
      "You are 15 years old\n",
      "Your GPA is 5.0\n",
      "You are 2.5km away\n",
      "I love drinking water\n",
      "I love eating apple\n",
      "User online: True\n",
      "Program running:False\n"
     ]
    }
   ],
   "source": [
    "#INTEGER\n",
    "age = 15\n",
    "user = 5\n",
    "\n",
    "print(f'You are {age} years old')\n",
    "printf=(f'{user} players online')\n",
    "\n",
    "#FLOAT\n",
    "gpa = 5.0\n",
    "distance = 2.5\n",
    "\n",
    "print(f'Your GPA is {gpa}')\n",
    "print(f'You are {distance}km away')\n",
    "\n",
    "#STRING\n",
    "drink = 'water'\n",
    "food = 'apple'\n",
    "\n",
    "print(f'I love drinking {drink}')\n",
    "print(f'I love eating {food}')\n",
    "\n",
    "#BOOLEAN\n",
    "online = True\n",
    "running = False\n",
    "\n",
    "print(f'User online: {online}')\n",
    "print(f'Program running:{running}')"
   ]
  },
  {
   "cell_type": "code",
   "execution_count": 17,
   "metadata": {},
   "outputs": [
    {
     "name": "stdout",
     "output_type": "stream",
     "text": [
      "<class 'str'>\n",
      "<class 'int'>\n",
      "<class 'float'>\n",
      "<class 'bool'>\n",
      "15.0\n",
      "3\n",
      "2.0\n"
     ]
    }
   ],
   "source": [
    "#TYPE CAST\n",
    "name = 'John'\n",
    "age = 15\n",
    "gpa = 3.9\n",
    "student = True\n",
    "\n",
    "print(type(name))\n",
    "print(type(age))\n",
    "print(type(gpa))\n",
    "print(type(student))\n",
    "\n",
    "#EXPLICIT\n",
    "age = float(age)\n",
    "print(age)\n",
    "\n",
    "gpa = int(gpa)\n",
    "print(gpa)\n",
    "\n",
    "#IMPLICIT\n",
    "x = 10\n",
    "y = 5.0\n",
    "\n",
    "x = x / y\n",
    "\n",
    "print(x)"
   ]
  }
 ],
 "metadata": {
  "kernelspec": {
   "display_name": "Python 3",
   "language": "python",
   "name": "python3"
  },
  "language_info": {
   "codemirror_mode": {
    "name": "ipython",
    "version": 3
   },
   "file_extension": ".py",
   "mimetype": "text/x-python",
   "name": "python",
   "nbconvert_exporter": "python",
   "pygments_lexer": "ipython3",
   "version": "3.11.4"
  },
  "orig_nbformat": 4
 },
 "nbformat": 4,
 "nbformat_minor": 2
}
